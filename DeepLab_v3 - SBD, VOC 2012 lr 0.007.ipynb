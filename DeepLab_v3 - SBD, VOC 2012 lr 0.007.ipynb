{
 "cells": [
  {
   "cell_type": "markdown",
   "metadata": {},
   "source": [
    "# DeepLab v3\n",
    "\n",
    "## 1. Environment Setup\n",
    "### 1.0. Check GPU"
   ]
  },
  {
   "cell_type": "code",
   "execution_count": 1,
   "metadata": {},
   "outputs": [
    {
     "name": "stdout",
     "output_type": "stream",
     "text": [
      "nvcc: NVIDIA (R) Cuda compiler driver\r\n",
      "Copyright (c) 2005-2020 NVIDIA Corporation\r\n",
      "Built on Wed_Jul_22_19:09:09_PDT_2020\r\n",
      "Cuda compilation tools, release 11.0, V11.0.221\r\n",
      "Build cuda_11.0_bu.TC445_37.28845127_0\r\n"
     ]
    }
   ],
   "source": [
    "!nvcc --version"
   ]
  },
  {
   "cell_type": "code",
   "execution_count": null,
   "metadata": {},
   "outputs": [],
   "source": []
  },
  {
   "cell_type": "markdown",
   "metadata": {},
   "source": [
    "### 1.1. Install Pytorch and torchvision"
   ]
  },
  {
   "cell_type": "code",
   "execution_count": 2,
   "metadata": {},
   "outputs": [
    {
     "name": "stdout",
     "output_type": "stream",
     "text": [
      "Looking in links: https://download.pytorch.org/whl/torch_stable.html\n",
      "Requirement already satisfied: torch==1.7.1+cu110 in /usr/local/lib/python3.6/dist-packages (1.7.1+cu110)\n",
      "Requirement already satisfied: torchvision==0.8.2+cu110 in /usr/local/lib/python3.6/dist-packages (0.8.2+cu110)\n",
      "Requirement already satisfied: torchaudio===0.7.2 in /usr/local/lib/python3.6/dist-packages (0.7.2)\n",
      "Requirement already satisfied: numpy in /usr/local/lib/python3.6/dist-packages (from torch==1.7.1+cu110) (1.19.4)\n",
      "Requirement already satisfied: dataclasses; python_version < \"3.7\" in /usr/local/lib/python3.6/dist-packages (from torch==1.7.1+cu110) (0.8)\n",
      "Requirement already satisfied: typing-extensions in /usr/local/lib/python3.6/dist-packages (from torch==1.7.1+cu110) (3.7.4.3)\n",
      "Requirement already satisfied: pillow>=4.1.1 in /usr/local/lib/python3.6/dist-packages (from torchvision==0.8.2+cu110) (8.0.1)\n",
      "\u001b[33mWARNING: You are using pip version 20.2.4; however, version 21.0.1 is available.\n",
      "You should consider upgrading via the '/usr/bin/python3 -m pip install --upgrade pip' command.\u001b[0m\n"
     ]
    }
   ],
   "source": [
    "!pip install torch==1.7.1+cu110 torchvision==0.8.2+cu110 torchaudio===0.7.2 -f https://download.pytorch.org/whl/torch_stable.html"
   ]
  },
  {
   "cell_type": "code",
   "execution_count": null,
   "metadata": {},
   "outputs": [],
   "source": []
  },
  {
   "cell_type": "markdown",
   "metadata": {},
   "source": [
    "### 1.2. Install scipy"
   ]
  },
  {
   "cell_type": "code",
   "execution_count": 3,
   "metadata": {},
   "outputs": [
    {
     "name": "stdout",
     "output_type": "stream",
     "text": [
      "Requirement already satisfied: scipy in /usr/local/lib/python3.6/dist-packages (1.5.4)\n",
      "Requirement already satisfied: numpy>=1.14.5 in /usr/local/lib/python3.6/dist-packages (from scipy) (1.19.4)\n",
      "\u001b[33mWARNING: You are using pip version 20.2.4; however, version 21.0.1 is available.\n",
      "You should consider upgrading via the '/usr/bin/python3 -m pip install --upgrade pip' command.\u001b[0m\n"
     ]
    }
   ],
   "source": [
    "!pip install scipy"
   ]
  },
  {
   "cell_type": "code",
   "execution_count": null,
   "metadata": {},
   "outputs": [],
   "source": []
  },
  {
   "cell_type": "markdown",
   "metadata": {},
   "source": [
    "### 1.3. Import"
   ]
  },
  {
   "cell_type": "code",
   "execution_count": 4,
   "metadata": {},
   "outputs": [],
   "source": [
    "import augmentation, train\n",
    "\n",
    "import torch\n",
    "import torchvision\n",
    "\n",
    "# Ignore Warning\n",
    "import warnings\n",
    "warnings.filterwarnings(action='ignore')"
   ]
  },
  {
   "cell_type": "code",
   "execution_count": null,
   "metadata": {},
   "outputs": [],
   "source": []
  },
  {
   "cell_type": "markdown",
   "metadata": {},
   "source": [
    "## 2. Data Preprocessing"
   ]
  },
  {
   "cell_type": "code",
   "execution_count": 5,
   "metadata": {},
   "outputs": [],
   "source": [
    "train_batch_size = 16\n",
    "test_batch_size = 1"
   ]
  },
  {
   "cell_type": "code",
   "execution_count": 6,
   "metadata": {},
   "outputs": [],
   "source": [
    "train_tf = augmentation.Mask_Aug(transforms=[augmentation.ToTensor(), augmentation.PILToTensor(), \n",
    "                                             augmentation.RandomResizedCrop((513, 513), scale=(1., 1.), ratio=(0.5, 2.)), \n",
    "                                             augmentation.RandomHorizontalFlip(),\n",
    "                                             augmentation.Normalize(mean=[0.485, 0.456, 0.406], std=[0.229, 0.224, 0.225])])\n",
    "\n",
    "val_tf = augmentation.Mask_Aug(transforms=[augmentation.ToTensor(), augmentation.PILToTensor(), \n",
    "                                           augmentation.Resize(513),\n",
    "                                           augmentation.Normalize(mean=[0.485, 0.456, 0.406], std=[0.229, 0.224, 0.225])])\n",
    "\n",
    "train_dataset = torchvision.datasets.SBDataset(root='./', image_set='train_noval', mode='segmentation', download=False, transforms=train_tf)\n",
    "train_loader = torch.utils.data.DataLoader(train_dataset, batch_size=train_batch_size, shuffle=True, num_workers=4, pin_memory=True)\n",
    "\n",
    "val_dataset = torchvision.datasets.VOCSegmentation(root='./', year='2012', image_set='val', download=False, transforms=val_tf)\n",
    "val_loader = torch.utils.data.DataLoader(val_dataset, batch_size=test_batch_size, shuffle=False, num_workers=4, pin_memory=True)"
   ]
  },
  {
   "cell_type": "code",
   "execution_count": null,
   "metadata": {},
   "outputs": [],
   "source": []
  },
  {
   "cell_type": "markdown",
   "metadata": {},
   "source": [
    "## 3. Train Model"
   ]
  },
  {
   "cell_type": "code",
   "execution_count": 7,
   "metadata": {},
   "outputs": [],
   "source": [
    "num_classes = 21\n",
    "multi_grid = [1, 2, 4]\n",
    "atrous_rates = [6, 12, 18]\n",
    "output_stride = 8\n",
    "scales = [0.5, 0.75, 1, 1.25, 1.5, 1.75]\n",
    "ignore_index = 255\n",
    "\n",
    "gpu_id = 4\n",
    "print_freq = 100\n",
    "epoch_print = 20\n",
    "\n",
    "save = False\n",
    "epochs = 121\n",
    "\n",
    "lr = 0.007\n",
    "momentum = 0.9\n",
    "weight_decay = 0.0005"
   ]
  },
  {
   "cell_type": "code",
   "execution_count": 8,
   "metadata": {
    "scrolled": true
   },
   "outputs": [],
   "source": [
    "DeepLab_v3 = train.DeepLab_v3(num_classes=num_classes, multi_grid=multi_grid, atrous_rates=atrous_rates, output_stride=output_stride, \n",
    "                              scales=scales, ignore_index=ignore_index, gpu_id=gpu_id, print_freq=print_freq, epoch_print=epoch_print)"
   ]
  },
  {
   "cell_type": "code",
   "execution_count": 9,
   "metadata": {
    "scrolled": false
   },
   "outputs": [
    {
     "name": "stdout",
     "output_type": "stream",
     "text": [
      "Epoch 1 Started...\n",
      "\n",
      "*********************************** Best mIoU Updated ***********************************\n",
      "Iteration : 100 - Train Loss : 1.048441, Test Loss : 1.238027, Test mIoU : 5.1376\n",
      "\n",
      "\n",
      "*********************************** Best mIoU Updated ***********************************\n",
      "Iteration : 200 - Train Loss : 1.090616, Test Loss : 0.987988, Test mIoU : 8.4468\n",
      "\n",
      "\n",
      "*********************************** Best mIoU Updated ***********************************\n",
      "Iteration : 300 - Train Loss : 0.833758, Test Loss : 0.710267, Test mIoU : 20.4932\n",
      "\n",
      "Epoch 21 Started...\n",
      "\n",
      "*********************************** Best mIoU Updated ***********************************\n",
      "Iteration : 100 - Train Loss : 0.091076, Test Loss : 0.236819, Test mIoU : 71.7617\n",
      "\n",
      "Iteration : 200 - Train Loss : 0.058038, Test Loss : 0.238690, Test mIoU : 71.4423\n",
      "Iteration : 300 - Train Loss : 0.088927, Test Loss : 0.239541, Test mIoU : 71.6028\n",
      "Epoch 41 Started...\n",
      "Iteration : 100 - Train Loss : 0.065166, Test Loss : 0.246129, Test mIoU : 71.1806\n",
      "Iteration : 200 - Train Loss : 0.067656, Test Loss : 0.254097, Test mIoU : 70.2872\n",
      "Iteration : 300 - Train Loss : 0.068399, Test Loss : 0.251932, Test mIoU : 70.6971\n",
      "Epoch 61 Started...\n",
      "Iteration : 100 - Train Loss : 0.071535, Test Loss : 0.266434, Test mIoU : 69.3293\n",
      "Iteration : 200 - Train Loss : 0.052614, Test Loss : 0.254773, Test mIoU : 70.0859\n",
      "Iteration : 300 - Train Loss : 0.069641, Test Loss : 0.260809, Test mIoU : 70.0622\n",
      "Epoch 81 Started...\n",
      "Iteration : 100 - Train Loss : 0.059157, Test Loss : 0.251823, Test mIoU : 70.5392\n",
      "Iteration : 200 - Train Loss : 0.075220, Test Loss : 0.253930, Test mIoU : 70.5134\n",
      "Iteration : 300 - Train Loss : 0.053303, Test Loss : 0.257414, Test mIoU : 70.1258\n",
      "Epoch 101 Started...\n",
      "Iteration : 100 - Train Loss : 0.068696, Test Loss : 0.249588, Test mIoU : 70.8501\n",
      "Iteration : 200 - Train Loss : 0.049947, Test Loss : 0.253069, Test mIoU : 70.1454\n",
      "Iteration : 300 - Train Loss : 0.060079, Test Loss : 0.249191, Test mIoU : 70.8321\n",
      "Epoch 121 Started...\n",
      "Iteration : 100 - Train Loss : 0.055153, Test Loss : 0.253187, Test mIoU : 70.8435\n",
      "Iteration : 200 - Train Loss : 0.043697, Test Loss : 0.254443, Test mIoU : 70.5418\n",
      "Iteration : 300 - Train Loss : 0.066097, Test Loss : 0.253200, Test mIoU : 70.1570\n"
     ]
    }
   ],
   "source": [
    "DeepLab_v3.train(train_loader, val_loader, save=save, epochs=epochs, lr=lr, momentum=momentum, weight_decay=weight_decay)"
   ]
  }
 ],
 "metadata": {
  "kernelspec": {
   "display_name": "Python 3",
   "language": "python",
   "name": "python3"
  },
  "language_info": {
   "codemirror_mode": {
    "name": "ipython",
    "version": 3
   },
   "file_extension": ".py",
   "mimetype": "text/x-python",
   "name": "python",
   "nbconvert_exporter": "python",
   "pygments_lexer": "ipython3",
   "version": "3.6.9"
  }
 },
 "nbformat": 4,
 "nbformat_minor": 4
}
